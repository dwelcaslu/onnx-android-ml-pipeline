{
 "cells": [
  {
   "cell_type": "code",
   "execution_count": 1,
   "metadata": {},
   "outputs": [],
   "source": [
    "import os,sys\n",
    "sys.path.append('../src/python/')\n",
    "\n",
    "import copy\n",
    "\n",
    "import matplotlib.pyplot as plt\n",
    "import numpy as np\n",
    "import pandas as pd\n",
    "import seaborn as sns\n",
    "\n",
    "from sklearn.compose import ColumnTransformer\n",
    "from sklearn.datasets import make_blobs\n",
    "from sklearn.ensemble import RandomForestClassifier, RandomForestRegressor\n",
    "from sklearn.linear_model import LinearRegression\n",
    "from sklearn.metrics import mean_absolute_error, mean_squared_error, r2_score\n",
    "\n",
    "from sklearn.model_selection import train_test_split, GridSearchCV, RandomizedSearchCV\n",
    "from sklearn.pipeline import Pipeline\n",
    "from sklearn.preprocessing import MinMaxScaler, OneHotEncoder, OrdinalEncoder\n",
    "from sklearn.preprocessing import PolynomialFeatures\n",
    "from sklearn.feature_selection import SelectFromModel\n",
    "from sklearn.preprocessing._encoders import _BaseEncoder\n",
    "\n",
    "from skl2onnx.sklapi import CastTransformer\n",
    "from models.onnxlib import ONNXConverter, ONNXPredictorCLF, ONNXPredictorREGR"
   ]
  },
  {
   "cell_type": "code",
   "execution_count": null,
   "metadata": {},
   "outputs": [],
   "source": []
  },
  {
   "cell_type": "markdown",
   "metadata": {},
   "source": [
    "# Loading the dataset:"
   ]
  },
  {
   "cell_type": "markdown",
   "metadata": {},
   "source": [
    "## Data Set Information:\n",
    "\n",
    "Predicting the age of abalone from physical measurements. The age of abalone is determined by cutting the shell through the cone, staining it, and counting the number of rings through a microscope -- a boring and time-consuming task. Other measurements, which are easier to obtain, are used to predict the age. Further information, such as weather patterns and location (hence food availability) may be required to solve the problem.\n",
    "\n",
    "From the original data examples with missing values were removed (the majority having the predicted value missing), and the ranges of the continuous values have been scaled for use with an ANN (by dividing by 200).\n",
    "\n",
    "\n",
    "Attribute Information:\n",
    "\n",
    "Given is the attribute name, attribute type, the measurement unit and a brief description. The number of rings is the value to predict: either as a continuous value or as a classification problem.\n",
    "\n",
    "## Name / Data Type / Measurement Unit / Description\n",
    "-----------------------------\n",
    "- Sex / nominal / -- / M, F, and I (infant)\n",
    "- Length / continuous / mm / Longest shell measurement\n",
    "- Diameter / continuous / mm / perpendicular to length\n",
    "- Height / continuous / mm / with meat in shell\n",
    "- Whole weight / continuous / grams / whole abalone\n",
    "- Shucked weight / continuous / grams / weight of meat\n",
    "- Viscera weight / continuous / grams / gut weight (after bleeding)\n",
    "- Shell weight / continuous / grams / after being dried\n",
    "- Rings / integer / -- / +1.5 gives the age in years"
   ]
  },
  {
   "cell_type": "code",
   "execution_count": 2,
   "metadata": {},
   "outputs": [
    {
     "data": {
      "text/html": [
       "<div>\n",
       "<style scoped>\n",
       "    .dataframe tbody tr th:only-of-type {\n",
       "        vertical-align: middle;\n",
       "    }\n",
       "\n",
       "    .dataframe tbody tr th {\n",
       "        vertical-align: top;\n",
       "    }\n",
       "\n",
       "    .dataframe thead th {\n",
       "        text-align: right;\n",
       "    }\n",
       "</style>\n",
       "<table border=\"1\" class=\"dataframe\">\n",
       "  <thead>\n",
       "    <tr style=\"text-align: right;\">\n",
       "      <th></th>\n",
       "      <th>sex</th>\n",
       "      <th>length</th>\n",
       "      <th>diameter</th>\n",
       "      <th>height</th>\n",
       "      <th>whole_weight</th>\n",
       "      <th>shucked_weight</th>\n",
       "      <th>viscera_weight</th>\n",
       "      <th>shell_weight</th>\n",
       "      <th>rings</th>\n",
       "    </tr>\n",
       "  </thead>\n",
       "  <tbody>\n",
       "    <tr>\n",
       "      <th>0</th>\n",
       "      <td>M</td>\n",
       "      <td>0.455</td>\n",
       "      <td>0.365</td>\n",
       "      <td>0.095</td>\n",
       "      <td>0.5140</td>\n",
       "      <td>0.2245</td>\n",
       "      <td>0.1010</td>\n",
       "      <td>0.1500</td>\n",
       "      <td>15</td>\n",
       "    </tr>\n",
       "    <tr>\n",
       "      <th>1</th>\n",
       "      <td>M</td>\n",
       "      <td>0.350</td>\n",
       "      <td>0.265</td>\n",
       "      <td>0.090</td>\n",
       "      <td>0.2255</td>\n",
       "      <td>0.0995</td>\n",
       "      <td>0.0485</td>\n",
       "      <td>0.0700</td>\n",
       "      <td>7</td>\n",
       "    </tr>\n",
       "    <tr>\n",
       "      <th>2</th>\n",
       "      <td>F</td>\n",
       "      <td>0.530</td>\n",
       "      <td>0.420</td>\n",
       "      <td>0.135</td>\n",
       "      <td>0.6770</td>\n",
       "      <td>0.2565</td>\n",
       "      <td>0.1415</td>\n",
       "      <td>0.2100</td>\n",
       "      <td>9</td>\n",
       "    </tr>\n",
       "    <tr>\n",
       "      <th>3</th>\n",
       "      <td>M</td>\n",
       "      <td>0.440</td>\n",
       "      <td>0.365</td>\n",
       "      <td>0.125</td>\n",
       "      <td>0.5160</td>\n",
       "      <td>0.2155</td>\n",
       "      <td>0.1140</td>\n",
       "      <td>0.1550</td>\n",
       "      <td>10</td>\n",
       "    </tr>\n",
       "    <tr>\n",
       "      <th>4</th>\n",
       "      <td>I</td>\n",
       "      <td>0.330</td>\n",
       "      <td>0.255</td>\n",
       "      <td>0.080</td>\n",
       "      <td>0.2050</td>\n",
       "      <td>0.0895</td>\n",
       "      <td>0.0395</td>\n",
       "      <td>0.0550</td>\n",
       "      <td>7</td>\n",
       "    </tr>\n",
       "    <tr>\n",
       "      <th>...</th>\n",
       "      <td>...</td>\n",
       "      <td>...</td>\n",
       "      <td>...</td>\n",
       "      <td>...</td>\n",
       "      <td>...</td>\n",
       "      <td>...</td>\n",
       "      <td>...</td>\n",
       "      <td>...</td>\n",
       "      <td>...</td>\n",
       "    </tr>\n",
       "    <tr>\n",
       "      <th>4172</th>\n",
       "      <td>F</td>\n",
       "      <td>0.565</td>\n",
       "      <td>0.450</td>\n",
       "      <td>0.165</td>\n",
       "      <td>0.8870</td>\n",
       "      <td>0.3700</td>\n",
       "      <td>0.2390</td>\n",
       "      <td>0.2490</td>\n",
       "      <td>11</td>\n",
       "    </tr>\n",
       "    <tr>\n",
       "      <th>4173</th>\n",
       "      <td>M</td>\n",
       "      <td>0.590</td>\n",
       "      <td>0.440</td>\n",
       "      <td>0.135</td>\n",
       "      <td>0.9660</td>\n",
       "      <td>0.4390</td>\n",
       "      <td>0.2145</td>\n",
       "      <td>0.2605</td>\n",
       "      <td>10</td>\n",
       "    </tr>\n",
       "    <tr>\n",
       "      <th>4174</th>\n",
       "      <td>M</td>\n",
       "      <td>0.600</td>\n",
       "      <td>0.475</td>\n",
       "      <td>0.205</td>\n",
       "      <td>1.1760</td>\n",
       "      <td>0.5255</td>\n",
       "      <td>0.2875</td>\n",
       "      <td>0.3080</td>\n",
       "      <td>9</td>\n",
       "    </tr>\n",
       "    <tr>\n",
       "      <th>4175</th>\n",
       "      <td>F</td>\n",
       "      <td>0.625</td>\n",
       "      <td>0.485</td>\n",
       "      <td>0.150</td>\n",
       "      <td>1.0945</td>\n",
       "      <td>0.5310</td>\n",
       "      <td>0.2610</td>\n",
       "      <td>0.2960</td>\n",
       "      <td>10</td>\n",
       "    </tr>\n",
       "    <tr>\n",
       "      <th>4176</th>\n",
       "      <td>M</td>\n",
       "      <td>0.710</td>\n",
       "      <td>0.555</td>\n",
       "      <td>0.195</td>\n",
       "      <td>1.9485</td>\n",
       "      <td>0.9455</td>\n",
       "      <td>0.3765</td>\n",
       "      <td>0.4950</td>\n",
       "      <td>12</td>\n",
       "    </tr>\n",
       "  </tbody>\n",
       "</table>\n",
       "<p>4177 rows × 9 columns</p>\n",
       "</div>"
      ],
      "text/plain": [
       "     sex  length  diameter  height  whole_weight  shucked_weight  \\\n",
       "0      M   0.455     0.365   0.095        0.5140          0.2245   \n",
       "1      M   0.350     0.265   0.090        0.2255          0.0995   \n",
       "2      F   0.530     0.420   0.135        0.6770          0.2565   \n",
       "3      M   0.440     0.365   0.125        0.5160          0.2155   \n",
       "4      I   0.330     0.255   0.080        0.2050          0.0895   \n",
       "...   ..     ...       ...     ...           ...             ...   \n",
       "4172   F   0.565     0.450   0.165        0.8870          0.3700   \n",
       "4173   M   0.590     0.440   0.135        0.9660          0.4390   \n",
       "4174   M   0.600     0.475   0.205        1.1760          0.5255   \n",
       "4175   F   0.625     0.485   0.150        1.0945          0.5310   \n",
       "4176   M   0.710     0.555   0.195        1.9485          0.9455   \n",
       "\n",
       "      viscera_weight  shell_weight  rings  \n",
       "0             0.1010        0.1500     15  \n",
       "1             0.0485        0.0700      7  \n",
       "2             0.1415        0.2100      9  \n",
       "3             0.1140        0.1550     10  \n",
       "4             0.0395        0.0550      7  \n",
       "...              ...           ...    ...  \n",
       "4172          0.2390        0.2490     11  \n",
       "4173          0.2145        0.2605     10  \n",
       "4174          0.2875        0.3080      9  \n",
       "4175          0.2610        0.2960     10  \n",
       "4176          0.3765        0.4950     12  \n",
       "\n",
       "[4177 rows x 9 columns]"
      ]
     },
     "execution_count": 2,
     "metadata": {},
     "output_type": "execute_result"
    }
   ],
   "source": [
    "data = pd.read_csv('../data/raw/abalone.csv')\n",
    "data.columns = [x.replace(' ', '_').lower() for x in data.columns]\n",
    "data"
   ]
  },
  {
   "cell_type": "code",
   "execution_count": 3,
   "metadata": {},
   "outputs": [
    {
     "data": {
      "text/plain": [
       "M    1528\n",
       "I    1342\n",
       "F    1307\n",
       "Name: sex, dtype: int64"
      ]
     },
     "execution_count": 3,
     "metadata": {},
     "output_type": "execute_result"
    }
   ],
   "source": [
    "data['sex'].value_counts(dropna=False)"
   ]
  },
  {
   "cell_type": "code",
   "execution_count": 4,
   "metadata": {},
   "outputs": [
    {
     "data": {
      "text/plain": [
       "Index(['sex', 'length', 'diameter', 'height', 'whole_weight', 'shucked_weight',\n",
       "       'viscera_weight', 'shell_weight', 'rings'],\n",
       "      dtype='object')"
      ]
     },
     "execution_count": 4,
     "metadata": {},
     "output_type": "execute_result"
    }
   ],
   "source": [
    "data.columns"
   ]
  },
  {
   "cell_type": "code",
   "execution_count": 5,
   "metadata": {},
   "outputs": [
    {
     "name": "stdout",
     "output_type": "stream",
     "text": [
      "<class 'pandas.core.frame.DataFrame'>\n",
      "RangeIndex: 4177 entries, 0 to 4176\n",
      "Data columns (total 9 columns):\n",
      " #   Column          Non-Null Count  Dtype  \n",
      "---  ------          --------------  -----  \n",
      " 0   sex             4177 non-null   object \n",
      " 1   length          4177 non-null   float64\n",
      " 2   diameter        4177 non-null   float64\n",
      " 3   height          4177 non-null   float64\n",
      " 4   whole_weight    4177 non-null   float64\n",
      " 5   shucked_weight  4177 non-null   float64\n",
      " 6   viscera_weight  4177 non-null   float64\n",
      " 7   shell_weight    4177 non-null   float64\n",
      " 8   rings           4177 non-null   int64  \n",
      "dtypes: float64(7), int64(1), object(1)\n",
      "memory usage: 293.8+ KB\n"
     ]
    }
   ],
   "source": [
    "data.info()"
   ]
  },
  {
   "cell_type": "code",
   "execution_count": 6,
   "metadata": {},
   "outputs": [
    {
     "data": {
      "text/html": [
       "<div>\n",
       "<style scoped>\n",
       "    .dataframe tbody tr th:only-of-type {\n",
       "        vertical-align: middle;\n",
       "    }\n",
       "\n",
       "    .dataframe tbody tr th {\n",
       "        vertical-align: top;\n",
       "    }\n",
       "\n",
       "    .dataframe thead th {\n",
       "        text-align: right;\n",
       "    }\n",
       "</style>\n",
       "<table border=\"1\" class=\"dataframe\">\n",
       "  <thead>\n",
       "    <tr style=\"text-align: right;\">\n",
       "      <th></th>\n",
       "      <th>count</th>\n",
       "      <th>mean</th>\n",
       "      <th>std</th>\n",
       "      <th>min</th>\n",
       "      <th>25%</th>\n",
       "      <th>50%</th>\n",
       "      <th>75%</th>\n",
       "      <th>max</th>\n",
       "    </tr>\n",
       "  </thead>\n",
       "  <tbody>\n",
       "    <tr>\n",
       "      <th>length</th>\n",
       "      <td>4177.0</td>\n",
       "      <td>0.523992</td>\n",
       "      <td>0.120093</td>\n",
       "      <td>0.0750</td>\n",
       "      <td>0.4500</td>\n",
       "      <td>0.5450</td>\n",
       "      <td>0.615</td>\n",
       "      <td>0.8150</td>\n",
       "    </tr>\n",
       "    <tr>\n",
       "      <th>diameter</th>\n",
       "      <td>4177.0</td>\n",
       "      <td>0.407881</td>\n",
       "      <td>0.099240</td>\n",
       "      <td>0.0550</td>\n",
       "      <td>0.3500</td>\n",
       "      <td>0.4250</td>\n",
       "      <td>0.480</td>\n",
       "      <td>0.6500</td>\n",
       "    </tr>\n",
       "    <tr>\n",
       "      <th>height</th>\n",
       "      <td>4177.0</td>\n",
       "      <td>0.139516</td>\n",
       "      <td>0.041827</td>\n",
       "      <td>0.0000</td>\n",
       "      <td>0.1150</td>\n",
       "      <td>0.1400</td>\n",
       "      <td>0.165</td>\n",
       "      <td>1.1300</td>\n",
       "    </tr>\n",
       "    <tr>\n",
       "      <th>whole_weight</th>\n",
       "      <td>4177.0</td>\n",
       "      <td>0.828742</td>\n",
       "      <td>0.490389</td>\n",
       "      <td>0.0020</td>\n",
       "      <td>0.4415</td>\n",
       "      <td>0.7995</td>\n",
       "      <td>1.153</td>\n",
       "      <td>2.8255</td>\n",
       "    </tr>\n",
       "    <tr>\n",
       "      <th>shucked_weight</th>\n",
       "      <td>4177.0</td>\n",
       "      <td>0.359367</td>\n",
       "      <td>0.221963</td>\n",
       "      <td>0.0010</td>\n",
       "      <td>0.1860</td>\n",
       "      <td>0.3360</td>\n",
       "      <td>0.502</td>\n",
       "      <td>1.4880</td>\n",
       "    </tr>\n",
       "    <tr>\n",
       "      <th>viscera_weight</th>\n",
       "      <td>4177.0</td>\n",
       "      <td>0.180594</td>\n",
       "      <td>0.109614</td>\n",
       "      <td>0.0005</td>\n",
       "      <td>0.0935</td>\n",
       "      <td>0.1710</td>\n",
       "      <td>0.253</td>\n",
       "      <td>0.7600</td>\n",
       "    </tr>\n",
       "    <tr>\n",
       "      <th>shell_weight</th>\n",
       "      <td>4177.0</td>\n",
       "      <td>0.238831</td>\n",
       "      <td>0.139203</td>\n",
       "      <td>0.0015</td>\n",
       "      <td>0.1300</td>\n",
       "      <td>0.2340</td>\n",
       "      <td>0.329</td>\n",
       "      <td>1.0050</td>\n",
       "    </tr>\n",
       "    <tr>\n",
       "      <th>rings</th>\n",
       "      <td>4177.0</td>\n",
       "      <td>9.933684</td>\n",
       "      <td>3.224169</td>\n",
       "      <td>1.0000</td>\n",
       "      <td>8.0000</td>\n",
       "      <td>9.0000</td>\n",
       "      <td>11.000</td>\n",
       "      <td>29.0000</td>\n",
       "    </tr>\n",
       "  </tbody>\n",
       "</table>\n",
       "</div>"
      ],
      "text/plain": [
       "                 count      mean       std     min     25%     50%     75%  \\\n",
       "length          4177.0  0.523992  0.120093  0.0750  0.4500  0.5450   0.615   \n",
       "diameter        4177.0  0.407881  0.099240  0.0550  0.3500  0.4250   0.480   \n",
       "height          4177.0  0.139516  0.041827  0.0000  0.1150  0.1400   0.165   \n",
       "whole_weight    4177.0  0.828742  0.490389  0.0020  0.4415  0.7995   1.153   \n",
       "shucked_weight  4177.0  0.359367  0.221963  0.0010  0.1860  0.3360   0.502   \n",
       "viscera_weight  4177.0  0.180594  0.109614  0.0005  0.0935  0.1710   0.253   \n",
       "shell_weight    4177.0  0.238831  0.139203  0.0015  0.1300  0.2340   0.329   \n",
       "rings           4177.0  9.933684  3.224169  1.0000  8.0000  9.0000  11.000   \n",
       "\n",
       "                    max  \n",
       "length           0.8150  \n",
       "diameter         0.6500  \n",
       "height           1.1300  \n",
       "whole_weight     2.8255  \n",
       "shucked_weight   1.4880  \n",
       "viscera_weight   0.7600  \n",
       "shell_weight     1.0050  \n",
       "rings           29.0000  "
      ]
     },
     "execution_count": 6,
     "metadata": {},
     "output_type": "execute_result"
    }
   ],
   "source": [
    "data.describe().transpose()"
   ]
  },
  {
   "cell_type": "code",
   "execution_count": null,
   "metadata": {},
   "outputs": [],
   "source": []
  },
  {
   "cell_type": "markdown",
   "metadata": {},
   "source": [
    "# Data preparation:"
   ]
  },
  {
   "cell_type": "code",
   "execution_count": 7,
   "metadata": {},
   "outputs": [],
   "source": [
    "TARGET_COL = 'rings'"
   ]
  },
  {
   "cell_type": "code",
   "execution_count": 8,
   "metadata": {},
   "outputs": [],
   "source": [
    "X = data.drop(columns=[TARGET_COL])\n",
    "y = data[TARGET_COL]"
   ]
  },
  {
   "cell_type": "code",
   "execution_count": 9,
   "metadata": {},
   "outputs": [],
   "source": [
    "x_train, x_test, y_train, y_test = train_test_split(X, y, test_size=0.3, random_state=42)"
   ]
  },
  {
   "cell_type": "code",
   "execution_count": 10,
   "metadata": {},
   "outputs": [
    {
     "name": "stdout",
     "output_type": "stream",
     "text": [
      "Train: 2923 samples 8 columns\n",
      "Test: 1254 samples 8 columns\n"
     ]
    }
   ],
   "source": [
    "print('Train:', x_train.shape[0], 'samples', x_train.shape[1], 'columns')\n",
    "print('Test:', x_test.shape[0], 'samples', x_test.shape[1], 'columns')"
   ]
  },
  {
   "cell_type": "code",
   "execution_count": null,
   "metadata": {},
   "outputs": [],
   "source": []
  },
  {
   "cell_type": "markdown",
   "metadata": {},
   "source": [
    "# Pre-processing Pipeline:"
   ]
  },
  {
   "cell_type": "code",
   "execution_count": 11,
   "metadata": {},
   "outputs": [],
   "source": [
    "# Creating the transformation:\n",
    "numeric_transformer = Pipeline(steps=[('scaler', MinMaxScaler())])\n",
    "categorical_transformer = Pipeline(steps=[('onehot', OneHotEncoder(handle_unknown='ignore', dtype=np.float32))])"
   ]
  },
  {
   "cell_type": "code",
   "execution_count": 12,
   "metadata": {},
   "outputs": [],
   "source": [
    "# Feature Encoding:\n",
    "\n",
    "# numeric_features = []\n",
    "numeric_features = ['length', 'diameter', 'height', 'whole_weight', 'shucked_weight', 'viscera_weight', 'shell_weight']\n",
    "\n",
    "# categorical_features  = []\n",
    "categorical_features  = ['sex']\n",
    "\n",
    "passthrough_features = []\n",
    "all_features_ = (numeric_features + categorical_features\n",
    "                 + passthrough_features)\n",
    "\n",
    "features_encoder = ColumnTransformer(transformers=[('num', numeric_transformer, numeric_features),\n",
    "                                                   ('cat', categorical_transformer, categorical_features),\n",
    "#                                                    ('passthrough', 'passthrough', passthrough_features),\n",
    "                                                  ],\n",
    "                                     remainder='drop')"
   ]
  },
  {
   "cell_type": "code",
   "execution_count": 13,
   "metadata": {},
   "outputs": [],
   "source": [
    "# Feature Construction:\n",
    "features_creator = PolynomialFeatures(2, include_bias=False)"
   ]
  },
  {
   "cell_type": "code",
   "execution_count": 14,
   "metadata": {},
   "outputs": [],
   "source": [
    "# Feature Selection:\n",
    "regr_select = LinearRegression()\n",
    "features_selector = SelectFromModel(regr_select)"
   ]
  },
  {
   "cell_type": "code",
   "execution_count": 15,
   "metadata": {},
   "outputs": [],
   "source": [
    "preprocessor = Pipeline([('feature_encoding', features_encoder),\n",
    "#                          ('feature_creation', features_creator),\n",
    "#                          ('feature_selection', features_selector),\n",
    "                        ])"
   ]
  },
  {
   "cell_type": "code",
   "execution_count": 16,
   "metadata": {},
   "outputs": [
    {
     "data": {
      "text/plain": [
       "Index(['rings'], dtype='object')"
      ]
     },
     "execution_count": 16,
     "metadata": {},
     "output_type": "execute_result"
    }
   ],
   "source": [
    "# Columns dropped by preprocessor:\n",
    "columns_to_drop = data.columns[~np.isin(data.columns, all_features_)]\n",
    "columns_to_drop"
   ]
  },
  {
   "cell_type": "code",
   "execution_count": 17,
   "metadata": {},
   "outputs": [
    {
     "data": {
      "text/html": [
       "<div>\n",
       "<style scoped>\n",
       "    .dataframe tbody tr th:only-of-type {\n",
       "        vertical-align: middle;\n",
       "    }\n",
       "\n",
       "    .dataframe tbody tr th {\n",
       "        vertical-align: top;\n",
       "    }\n",
       "\n",
       "    .dataframe thead th {\n",
       "        text-align: right;\n",
       "    }\n",
       "</style>\n",
       "<table border=\"1\" class=\"dataframe\">\n",
       "  <thead>\n",
       "    <tr style=\"text-align: right;\">\n",
       "      <th></th>\n",
       "      <th>0</th>\n",
       "      <th>1</th>\n",
       "      <th>2</th>\n",
       "      <th>3</th>\n",
       "      <th>4</th>\n",
       "      <th>5</th>\n",
       "      <th>6</th>\n",
       "      <th>7</th>\n",
       "      <th>8</th>\n",
       "      <th>9</th>\n",
       "    </tr>\n",
       "  </thead>\n",
       "  <tbody>\n",
       "    <tr>\n",
       "      <th>0</th>\n",
       "      <td>0.608108</td>\n",
       "      <td>0.630252</td>\n",
       "      <td>0.119469</td>\n",
       "      <td>0.298034</td>\n",
       "      <td>0.290182</td>\n",
       "      <td>0.236340</td>\n",
       "      <td>0.179372</td>\n",
       "      <td>1.0</td>\n",
       "      <td>0.0</td>\n",
       "      <td>0.0</td>\n",
       "    </tr>\n",
       "    <tr>\n",
       "      <th>1</th>\n",
       "      <td>0.479730</td>\n",
       "      <td>0.453782</td>\n",
       "      <td>0.088496</td>\n",
       "      <td>0.128387</td>\n",
       "      <td>0.105245</td>\n",
       "      <td>0.107966</td>\n",
       "      <td>0.103139</td>\n",
       "      <td>0.0</td>\n",
       "      <td>1.0</td>\n",
       "      <td>0.0</td>\n",
       "    </tr>\n",
       "    <tr>\n",
       "      <th>2</th>\n",
       "      <td>0.513514</td>\n",
       "      <td>0.495798</td>\n",
       "      <td>0.092920</td>\n",
       "      <td>0.146627</td>\n",
       "      <td>0.108608</td>\n",
       "      <td>0.127057</td>\n",
       "      <td>0.143000</td>\n",
       "      <td>0.0</td>\n",
       "      <td>0.0</td>\n",
       "      <td>1.0</td>\n",
       "    </tr>\n",
       "    <tr>\n",
       "      <th>3</th>\n",
       "      <td>0.175676</td>\n",
       "      <td>0.168067</td>\n",
       "      <td>0.039823</td>\n",
       "      <td>0.014344</td>\n",
       "      <td>0.010760</td>\n",
       "      <td>0.006583</td>\n",
       "      <td>0.013951</td>\n",
       "      <td>0.0</td>\n",
       "      <td>0.0</td>\n",
       "      <td>1.0</td>\n",
       "    </tr>\n",
       "    <tr>\n",
       "      <th>4</th>\n",
       "      <td>0.695946</td>\n",
       "      <td>0.689076</td>\n",
       "      <td>0.141593</td>\n",
       "      <td>0.389056</td>\n",
       "      <td>0.339610</td>\n",
       "      <td>0.331797</td>\n",
       "      <td>0.292476</td>\n",
       "      <td>1.0</td>\n",
       "      <td>0.0</td>\n",
       "      <td>0.0</td>\n",
       "    </tr>\n",
       "    <tr>\n",
       "      <th>...</th>\n",
       "      <td>...</td>\n",
       "      <td>...</td>\n",
       "      <td>...</td>\n",
       "      <td>...</td>\n",
       "      <td>...</td>\n",
       "      <td>...</td>\n",
       "      <td>...</td>\n",
       "      <td>...</td>\n",
       "      <td>...</td>\n",
       "      <td>...</td>\n",
       "    </tr>\n",
       "    <tr>\n",
       "      <th>2918</th>\n",
       "      <td>0.560811</td>\n",
       "      <td>0.579832</td>\n",
       "      <td>0.101770</td>\n",
       "      <td>0.200815</td>\n",
       "      <td>0.171486</td>\n",
       "      <td>0.173799</td>\n",
       "      <td>0.143000</td>\n",
       "      <td>1.0</td>\n",
       "      <td>0.0</td>\n",
       "      <td>0.0</td>\n",
       "    </tr>\n",
       "    <tr>\n",
       "      <th>2919</th>\n",
       "      <td>0.804054</td>\n",
       "      <td>0.831933</td>\n",
       "      <td>0.168142</td>\n",
       "      <td>0.491766</td>\n",
       "      <td>0.364156</td>\n",
       "      <td>0.398947</td>\n",
       "      <td>0.397110</td>\n",
       "      <td>1.0</td>\n",
       "      <td>0.0</td>\n",
       "      <td>0.0</td>\n",
       "    </tr>\n",
       "    <tr>\n",
       "      <th>2920</th>\n",
       "      <td>0.587838</td>\n",
       "      <td>0.571429</td>\n",
       "      <td>0.110619</td>\n",
       "      <td>0.204888</td>\n",
       "      <td>0.163416</td>\n",
       "      <td>0.175115</td>\n",
       "      <td>0.185850</td>\n",
       "      <td>0.0</td>\n",
       "      <td>0.0</td>\n",
       "      <td>1.0</td>\n",
       "    </tr>\n",
       "    <tr>\n",
       "      <th>2921</th>\n",
       "      <td>0.675676</td>\n",
       "      <td>0.689076</td>\n",
       "      <td>0.106195</td>\n",
       "      <td>0.372410</td>\n",
       "      <td>0.346335</td>\n",
       "      <td>0.287031</td>\n",
       "      <td>0.232686</td>\n",
       "      <td>0.0</td>\n",
       "      <td>0.0</td>\n",
       "      <td>1.0</td>\n",
       "    </tr>\n",
       "    <tr>\n",
       "      <th>2922</th>\n",
       "      <td>0.702703</td>\n",
       "      <td>0.705882</td>\n",
       "      <td>0.141593</td>\n",
       "      <td>0.403223</td>\n",
       "      <td>0.367182</td>\n",
       "      <td>0.303489</td>\n",
       "      <td>0.268560</td>\n",
       "      <td>1.0</td>\n",
       "      <td>0.0</td>\n",
       "      <td>0.0</td>\n",
       "    </tr>\n",
       "  </tbody>\n",
       "</table>\n",
       "<p>2923 rows × 10 columns</p>\n",
       "</div>"
      ],
      "text/plain": [
       "             0         1         2         3         4         5         6  \\\n",
       "0     0.608108  0.630252  0.119469  0.298034  0.290182  0.236340  0.179372   \n",
       "1     0.479730  0.453782  0.088496  0.128387  0.105245  0.107966  0.103139   \n",
       "2     0.513514  0.495798  0.092920  0.146627  0.108608  0.127057  0.143000   \n",
       "3     0.175676  0.168067  0.039823  0.014344  0.010760  0.006583  0.013951   \n",
       "4     0.695946  0.689076  0.141593  0.389056  0.339610  0.331797  0.292476   \n",
       "...        ...       ...       ...       ...       ...       ...       ...   \n",
       "2918  0.560811  0.579832  0.101770  0.200815  0.171486  0.173799  0.143000   \n",
       "2919  0.804054  0.831933  0.168142  0.491766  0.364156  0.398947  0.397110   \n",
       "2920  0.587838  0.571429  0.110619  0.204888  0.163416  0.175115  0.185850   \n",
       "2921  0.675676  0.689076  0.106195  0.372410  0.346335  0.287031  0.232686   \n",
       "2922  0.702703  0.705882  0.141593  0.403223  0.367182  0.303489  0.268560   \n",
       "\n",
       "        7    8    9  \n",
       "0     1.0  0.0  0.0  \n",
       "1     0.0  1.0  0.0  \n",
       "2     0.0  0.0  1.0  \n",
       "3     0.0  0.0  1.0  \n",
       "4     1.0  0.0  0.0  \n",
       "...   ...  ...  ...  \n",
       "2918  1.0  0.0  0.0  \n",
       "2919  1.0  0.0  0.0  \n",
       "2920  0.0  0.0  1.0  \n",
       "2921  0.0  0.0  1.0  \n",
       "2922  1.0  0.0  0.0  \n",
       "\n",
       "[2923 rows x 10 columns]"
      ]
     },
     "execution_count": 17,
     "metadata": {},
     "output_type": "execute_result"
    }
   ],
   "source": [
    "x_train_encoded = preprocessor.fit_transform(x_train, y_train)\n",
    "pd.DataFrame(x_train_encoded)"
   ]
  },
  {
   "cell_type": "code",
   "execution_count": 18,
   "metadata": {},
   "outputs": [
    {
     "data": {
      "text/html": [
       "<div>\n",
       "<style scoped>\n",
       "    .dataframe tbody tr th:only-of-type {\n",
       "        vertical-align: middle;\n",
       "    }\n",
       "\n",
       "    .dataframe tbody tr th {\n",
       "        vertical-align: top;\n",
       "    }\n",
       "\n",
       "    .dataframe thead th {\n",
       "        text-align: right;\n",
       "    }\n",
       "</style>\n",
       "<table border=\"1\" class=\"dataframe\">\n",
       "  <thead>\n",
       "    <tr style=\"text-align: right;\">\n",
       "      <th></th>\n",
       "      <th>0</th>\n",
       "      <th>1</th>\n",
       "      <th>2</th>\n",
       "      <th>3</th>\n",
       "      <th>4</th>\n",
       "      <th>5</th>\n",
       "      <th>6</th>\n",
       "      <th>7</th>\n",
       "      <th>8</th>\n",
       "      <th>9</th>\n",
       "    </tr>\n",
       "  </thead>\n",
       "  <tbody>\n",
       "    <tr>\n",
       "      <th>0</th>\n",
       "      <td>0.716216</td>\n",
       "      <td>0.672269</td>\n",
       "      <td>0.141593</td>\n",
       "      <td>0.390119</td>\n",
       "      <td>0.282448</td>\n",
       "      <td>0.396313</td>\n",
       "      <td>0.322372</td>\n",
       "      <td>0.0</td>\n",
       "      <td>0.0</td>\n",
       "      <td>1.0</td>\n",
       "    </tr>\n",
       "    <tr>\n",
       "      <th>1</th>\n",
       "      <td>0.695946</td>\n",
       "      <td>0.647059</td>\n",
       "      <td>0.132743</td>\n",
       "      <td>0.308305</td>\n",
       "      <td>0.259583</td>\n",
       "      <td>0.282423</td>\n",
       "      <td>0.242651</td>\n",
       "      <td>0.0</td>\n",
       "      <td>0.0</td>\n",
       "      <td>1.0</td>\n",
       "    </tr>\n",
       "    <tr>\n",
       "      <th>2</th>\n",
       "      <td>0.655405</td>\n",
       "      <td>0.655462</td>\n",
       "      <td>0.172566</td>\n",
       "      <td>0.346733</td>\n",
       "      <td>0.204438</td>\n",
       "      <td>0.294931</td>\n",
       "      <td>0.332337</td>\n",
       "      <td>1.0</td>\n",
       "      <td>0.0</td>\n",
       "      <td>0.0</td>\n",
       "    </tr>\n",
       "    <tr>\n",
       "      <th>3</th>\n",
       "      <td>0.756757</td>\n",
       "      <td>0.731092</td>\n",
       "      <td>0.150442</td>\n",
       "      <td>0.446078</td>\n",
       "      <td>0.361466</td>\n",
       "      <td>0.350230</td>\n",
       "      <td>0.377180</td>\n",
       "      <td>1.0</td>\n",
       "      <td>0.0</td>\n",
       "      <td>0.0</td>\n",
       "    </tr>\n",
       "    <tr>\n",
       "      <th>4</th>\n",
       "      <td>0.540541</td>\n",
       "      <td>0.554622</td>\n",
       "      <td>0.128319</td>\n",
       "      <td>0.217992</td>\n",
       "      <td>0.157364</td>\n",
       "      <td>0.141540</td>\n",
       "      <td>0.212755</td>\n",
       "      <td>0.0</td>\n",
       "      <td>0.0</td>\n",
       "      <td>1.0</td>\n",
       "    </tr>\n",
       "    <tr>\n",
       "      <th>...</th>\n",
       "      <td>...</td>\n",
       "      <td>...</td>\n",
       "      <td>...</td>\n",
       "      <td>...</td>\n",
       "      <td>...</td>\n",
       "      <td>...</td>\n",
       "      <td>...</td>\n",
       "      <td>...</td>\n",
       "      <td>...</td>\n",
       "      <td>...</td>\n",
       "    </tr>\n",
       "    <tr>\n",
       "      <th>1249</th>\n",
       "      <td>0.722973</td>\n",
       "      <td>0.722689</td>\n",
       "      <td>0.154867</td>\n",
       "      <td>0.440057</td>\n",
       "      <td>0.365165</td>\n",
       "      <td>0.390388</td>\n",
       "      <td>0.342302</td>\n",
       "      <td>0.0</td>\n",
       "      <td>0.0</td>\n",
       "      <td>1.0</td>\n",
       "    </tr>\n",
       "    <tr>\n",
       "      <th>1250</th>\n",
       "      <td>0.290541</td>\n",
       "      <td>0.285714</td>\n",
       "      <td>0.066372</td>\n",
       "      <td>0.048876</td>\n",
       "      <td>0.033961</td>\n",
       "      <td>0.030283</td>\n",
       "      <td>0.038366</td>\n",
       "      <td>1.0</td>\n",
       "      <td>0.0</td>\n",
       "      <td>0.0</td>\n",
       "    </tr>\n",
       "    <tr>\n",
       "      <th>1251</th>\n",
       "      <td>0.608108</td>\n",
       "      <td>0.596639</td>\n",
       "      <td>0.101770</td>\n",
       "      <td>0.273597</td>\n",
       "      <td>0.279085</td>\n",
       "      <td>0.213957</td>\n",
       "      <td>0.177877</td>\n",
       "      <td>1.0</td>\n",
       "      <td>0.0</td>\n",
       "      <td>0.0</td>\n",
       "    </tr>\n",
       "    <tr>\n",
       "      <th>1252</th>\n",
       "      <td>0.817568</td>\n",
       "      <td>0.781513</td>\n",
       "      <td>0.163717</td>\n",
       "      <td>0.528422</td>\n",
       "      <td>0.412912</td>\n",
       "      <td>0.517446</td>\n",
       "      <td>0.403089</td>\n",
       "      <td>1.0</td>\n",
       "      <td>0.0</td>\n",
       "      <td>0.0</td>\n",
       "    </tr>\n",
       "    <tr>\n",
       "      <th>1253</th>\n",
       "      <td>0.459459</td>\n",
       "      <td>0.428571</td>\n",
       "      <td>0.079646</td>\n",
       "      <td>0.114220</td>\n",
       "      <td>0.087088</td>\n",
       "      <td>0.096116</td>\n",
       "      <td>0.113104</td>\n",
       "      <td>0.0</td>\n",
       "      <td>0.0</td>\n",
       "      <td>1.0</td>\n",
       "    </tr>\n",
       "  </tbody>\n",
       "</table>\n",
       "<p>1254 rows × 10 columns</p>\n",
       "</div>"
      ],
      "text/plain": [
       "             0         1         2         3         4         5         6  \\\n",
       "0     0.716216  0.672269  0.141593  0.390119  0.282448  0.396313  0.322372   \n",
       "1     0.695946  0.647059  0.132743  0.308305  0.259583  0.282423  0.242651   \n",
       "2     0.655405  0.655462  0.172566  0.346733  0.204438  0.294931  0.332337   \n",
       "3     0.756757  0.731092  0.150442  0.446078  0.361466  0.350230  0.377180   \n",
       "4     0.540541  0.554622  0.128319  0.217992  0.157364  0.141540  0.212755   \n",
       "...        ...       ...       ...       ...       ...       ...       ...   \n",
       "1249  0.722973  0.722689  0.154867  0.440057  0.365165  0.390388  0.342302   \n",
       "1250  0.290541  0.285714  0.066372  0.048876  0.033961  0.030283  0.038366   \n",
       "1251  0.608108  0.596639  0.101770  0.273597  0.279085  0.213957  0.177877   \n",
       "1252  0.817568  0.781513  0.163717  0.528422  0.412912  0.517446  0.403089   \n",
       "1253  0.459459  0.428571  0.079646  0.114220  0.087088  0.096116  0.113104   \n",
       "\n",
       "        7    8    9  \n",
       "0     0.0  0.0  1.0  \n",
       "1     0.0  0.0  1.0  \n",
       "2     1.0  0.0  0.0  \n",
       "3     1.0  0.0  0.0  \n",
       "4     0.0  0.0  1.0  \n",
       "...   ...  ...  ...  \n",
       "1249  0.0  0.0  1.0  \n",
       "1250  1.0  0.0  0.0  \n",
       "1251  1.0  0.0  0.0  \n",
       "1252  1.0  0.0  0.0  \n",
       "1253  0.0  0.0  1.0  \n",
       "\n",
       "[1254 rows x 10 columns]"
      ]
     },
     "execution_count": 18,
     "metadata": {},
     "output_type": "execute_result"
    }
   ],
   "source": [
    "x_test_encoded = pd.DataFrame(preprocessor.transform(x_test))\n",
    "x_test_encoded"
   ]
  },
  {
   "cell_type": "code",
   "execution_count": null,
   "metadata": {},
   "outputs": [],
   "source": []
  },
  {
   "cell_type": "markdown",
   "metadata": {},
   "source": [
    "# Training the model into the main pipeline:"
   ]
  },
  {
   "cell_type": "code",
   "execution_count": 19,
   "metadata": {},
   "outputs": [],
   "source": [
    "# # Training the model and getting the results:\n",
    "# lr_regr = LinearRegression()\n",
    "# estimator = lr_regr.fit(x_train_encoded, y_train)\n",
    "\n",
    "# model_full = Pipeline(steps=[('preprocessor', preprocessor),\n",
    "#                              ('estimator', lr_regr)])\n",
    "\n",
    "# # Com o linear regressor e OneHotEncoder houve problema na predição do ONNX\n",
    "# # Aparentemente os coeficientes ligados ao OneHot ficavam com valores inadequados."
   ]
  },
  {
   "cell_type": "code",
   "execution_count": 20,
   "metadata": {},
   "outputs": [],
   "source": [
    "# Training the model and getting the results:\n",
    "rf_regr = RandomForestRegressor()\n",
    "estimator = rf_regr.fit(x_train_encoded, y_train)\n",
    "\n",
    "model_full = Pipeline(steps=[('preprocessor', preprocessor),\n",
    "                             ('estimator', estimator)])"
   ]
  },
  {
   "cell_type": "code",
   "execution_count": 21,
   "metadata": {},
   "outputs": [],
   "source": [
    "y_train_pred = model_full.predict(x_train)\n",
    "y_test_pred = model_full.predict(x_test)"
   ]
  },
  {
   "cell_type": "code",
   "execution_count": null,
   "metadata": {},
   "outputs": [],
   "source": []
  },
  {
   "cell_type": "markdown",
   "metadata": {},
   "source": [
    "# Model evaluation:"
   ]
  },
  {
   "cell_type": "code",
   "execution_count": 22,
   "metadata": {},
   "outputs": [
    {
     "name": "stdout",
     "output_type": "stream",
     "text": [
      "MAE (train): 0.5722716387273349 MAE (test): 1.551682615629984\n",
      "MSE (train): 0.6689935340403695 MSE (test): 4.837446650717704\n",
      "R2 score (train): 0.9362047332390514 R2 score (test): 0.5236181691190818\n"
     ]
    }
   ],
   "source": [
    "print(f'MAE (train): {mean_absolute_error(y_train, y_train_pred)} MAE (test): {mean_absolute_error(y_test, y_test_pred)}')\n",
    "print(f'MSE (train): {mean_squared_error(y_train, y_train_pred)} MSE (test): {mean_squared_error(y_test, y_test_pred)}')\n",
    "print(f'R2 score (train): {r2_score(y_train, y_train_pred)} R2 score (test): {r2_score(y_test, y_test_pred)}')"
   ]
  },
  {
   "cell_type": "code",
   "execution_count": null,
   "metadata": {},
   "outputs": [],
   "source": []
  },
  {
   "cell_type": "markdown",
   "metadata": {},
   "source": [
    "# Converting to ONNX format"
   ]
  },
  {
   "cell_type": "code",
   "execution_count": 23,
   "metadata": {},
   "outputs": [],
   "source": [
    "onnx_conv = ONNXConverter(preprocessor, estimator)"
   ]
  },
  {
   "cell_type": "code",
   "execution_count": 24,
   "metadata": {},
   "outputs": [
    {
     "name": "stdout",
     "output_type": "stream",
     "text": [
      "\n",
      "Initial types preprocessing (8):\n",
      "sex StringTensorType(shape=[None, 1])\n",
      "length FloatTensorType(shape=[None, 1])\n",
      "diameter FloatTensorType(shape=[None, 1])\n",
      "height FloatTensorType(shape=[None, 1])\n",
      "whole_weight FloatTensorType(shape=[None, 1])\n",
      "shucked_weight FloatTensorType(shape=[None, 1])\n",
      "viscera_weight FloatTensorType(shape=[None, 1])\n",
      "shell_weight FloatTensorType(shape=[None, 1])\n",
      "\n",
      "Initial types estimator (1):\n",
      "x_values FloatTensorType(shape=[None, 10])\n"
     ]
    }
   ],
   "source": [
    "onnx_conv.convert_initial_types(x_train, y_train, columns_to_drop, show_types=True)"
   ]
  },
  {
   "cell_type": "code",
   "execution_count": 25,
   "metadata": {},
   "outputs": [
    {
     "name": "stdout",
     "output_type": "stream",
     "text": [
      "../models/sklearn_preprocessor_v0.onnx saved successfully.\n",
      "../models/sklearn_model_v0.onnx saved successfully.\n"
     ]
    }
   ],
   "source": [
    "prep_filename = '../models/sklearn_preprocessor_v0.onnx'\n",
    "estimator_filename = '../models/sklearn_model_v0.onnx'\n",
    "\n",
    "onnx_conv.dump_models(prep_filename=prep_filename,estimator_filename=estimator_filename)"
   ]
  },
  {
   "cell_type": "code",
   "execution_count": null,
   "metadata": {},
   "outputs": [],
   "source": []
  },
  {
   "cell_type": "markdown",
   "metadata": {},
   "source": [
    "# Loading the ONNX files and performing predictions:"
   ]
  },
  {
   "cell_type": "code",
   "execution_count": 26,
   "metadata": {},
   "outputs": [
    {
     "data": {
      "text/plain": [
       "array([12.83    ,  9.380001, 14.589999, ...,  8.730001, 11.590001,\n",
       "       10.26    ], dtype=float32)"
      ]
     },
     "execution_count": 26,
     "metadata": {},
     "output_type": "execute_result"
    }
   ],
   "source": [
    "onnx_pred = ONNXPredictorREGR(prep_filename, estimator_filename)\n",
    "onnx_pred.run_predictions(x_test)"
   ]
  },
  {
   "cell_type": "code",
   "execution_count": 27,
   "metadata": {},
   "outputs": [
    {
     "data": {
      "text/plain": [
       "array([ 7.62939454e-08,  9.99893188e-03,  2.00008011e-02, ...,\n",
       "       -1.44958496e-06,  1.69998894e-01, -2.28881836e-07])"
      ]
     },
     "execution_count": 27,
     "metadata": {},
     "output_type": "execute_result"
    }
   ],
   "source": [
    "value_diffs = y_test_pred - onnx_pred.output_value\n",
    "value_diffs"
   ]
  },
  {
   "cell_type": "code",
   "execution_count": 28,
   "metadata": {},
   "outputs": [
    {
     "data": {
      "text/plain": [
       "array([12.83,  9.38, 14.59, ...,  8.73, 11.59, 10.26], dtype=float32)"
      ]
     },
     "execution_count": 28,
     "metadata": {},
     "output_type": "execute_result"
    }
   ],
   "source": [
    "y_test_onnx = np.round(onnx_pred.output_value, 4).astype(np.float32)\n",
    "y_test_onnx"
   ]
  },
  {
   "cell_type": "code",
   "execution_count": 29,
   "metadata": {},
   "outputs": [
    {
     "data": {
      "text/plain": [
       "array([12.83,  9.39, 14.61, ...,  8.73, 11.76, 10.26], dtype=float32)"
      ]
     },
     "execution_count": 29,
     "metadata": {},
     "output_type": "execute_result"
    }
   ],
   "source": [
    "y_test_pred = np.round(y_test_pred, 4).astype(np.float32)\n",
    "y_test_pred"
   ]
  },
  {
   "cell_type": "code",
   "execution_count": 30,
   "metadata": {},
   "outputs": [
    {
     "name": "stdout",
     "output_type": "stream",
     "text": [
      "665 equal results\n",
      "589 different results\n"
     ]
    }
   ],
   "source": [
    "print(sum(y_test_pred == y_test_onnx), 'equal results')\n",
    "print(sum(y_test_pred != y_test_onnx), 'different results')"
   ]
  },
  {
   "cell_type": "code",
   "execution_count": 31,
   "metadata": {},
   "outputs": [
    {
     "data": {
      "text/plain": [
       "0.017935017269383957"
      ]
     },
     "execution_count": 31,
     "metadata": {},
     "output_type": "execute_result"
    }
   ],
   "source": [
    "abs(value_diffs).mean()"
   ]
  },
  {
   "cell_type": "code",
   "execution_count": 32,
   "metadata": {},
   "outputs": [
    {
     "data": {
      "text/plain": [
       "0.3499997329711917"
      ]
     },
     "execution_count": 32,
     "metadata": {},
     "output_type": "execute_result"
    }
   ],
   "source": [
    "abs(value_diffs).max()"
   ]
  },
  {
   "cell_type": "code",
   "execution_count": 33,
   "metadata": {},
   "outputs": [
    {
     "data": {
      "image/png": "[encoded data removed]",
      "text/plain": [
       "<Figure size 720x432 with 2 Axes>"
      ]
     },
     "metadata": {
      "needs_background": "light"
     },
     "output_type": "display_data"
    }
   ],
   "source": [
    "plt.figure(figsize=(10, 6))\n",
    "plt.subplot(2,1,1)\n",
    "plt.hist(value_diffs, bins=50, alpha=0.5, label='value_diffs')\n",
    "plt.legend()\n",
    "plt.subplot(2,1,2)\n",
    "plt.hist(y_test_pred, bins=50, alpha=0.5, label='y_test_pred')\n",
    "plt.hist(y_test_onnx, bins=50, alpha=0.5, label='y_test_onnx')\n",
    "plt.legend()\n",
    "\n",
    "plt.tight_layout()\n",
    "plt.show()"
   ]
  },
  {
   "cell_type": "code",
   "execution_count": 34,
   "metadata": {},
   "outputs": [
    {
     "data": {
      "image/png": "[encoded data removed]",
      "text/plain": [
       "<Figure size 720x432 with 1 Axes>"
      ]
     },
     "metadata": {
      "needs_background": "light"
     },
     "output_type": "display_data"
    }
   ],
   "source": [
    "plt.figure(figsize=(10, 6))\n",
    "sns.kdeplot(data=y_test_pred, alpha=0.5, label='y_test_pred')\n",
    "sns.kdeplot(data=y_test_onnx, alpha=0.5, label='y_test_onnx')\n",
    "plt.legend()\n",
    "\n",
    "plt.tight_layout()\n",
    "plt.show()"
   ]
  },
  {
   "cell_type": "code",
   "execution_count": 35,
   "metadata": {},
   "outputs": [
    {
     "data": {
      "text/html": [
       "<div>\n",
       "<style scoped>\n",
       "    .dataframe tbody tr th:only-of-type {\n",
       "        vertical-align: middle;\n",
       "    }\n",
       "\n",
       "    .dataframe tbody tr th {\n",
       "        vertical-align: top;\n",
       "    }\n",
       "\n",
       "    .dataframe thead th {\n",
       "        text-align: right;\n",
       "    }\n",
       "</style>\n",
       "<table border=\"1\" class=\"dataframe\">\n",
       "  <thead>\n",
       "    <tr style=\"text-align: right;\">\n",
       "      <th></th>\n",
       "      <th>0</th>\n",
       "      <th>1</th>\n",
       "      <th>2</th>\n",
       "      <th>3</th>\n",
       "      <th>4</th>\n",
       "      <th>5</th>\n",
       "      <th>6</th>\n",
       "      <th>7</th>\n",
       "      <th>8</th>\n",
       "      <th>9</th>\n",
       "    </tr>\n",
       "  </thead>\n",
       "  <tbody>\n",
       "    <tr>\n",
       "      <th>0</th>\n",
       "      <td>0.716216</td>\n",
       "      <td>0.672269</td>\n",
       "      <td>0.141593</td>\n",
       "      <td>0.390119</td>\n",
       "      <td>0.282448</td>\n",
       "      <td>0.396313</td>\n",
       "      <td>0.322372</td>\n",
       "      <td>0.0</td>\n",
       "      <td>0.0</td>\n",
       "      <td>1.0</td>\n",
       "    </tr>\n",
       "    <tr>\n",
       "      <th>1</th>\n",
       "      <td>0.695946</td>\n",
       "      <td>0.647059</td>\n",
       "      <td>0.132743</td>\n",
       "      <td>0.308305</td>\n",
       "      <td>0.259583</td>\n",
       "      <td>0.282423</td>\n",
       "      <td>0.242651</td>\n",
       "      <td>0.0</td>\n",
       "      <td>0.0</td>\n",
       "      <td>1.0</td>\n",
       "    </tr>\n",
       "    <tr>\n",
       "      <th>2</th>\n",
       "      <td>0.655405</td>\n",
       "      <td>0.655462</td>\n",
       "      <td>0.172566</td>\n",
       "      <td>0.346733</td>\n",
       "      <td>0.204438</td>\n",
       "      <td>0.294931</td>\n",
       "      <td>0.332337</td>\n",
       "      <td>1.0</td>\n",
       "      <td>0.0</td>\n",
       "      <td>0.0</td>\n",
       "    </tr>\n",
       "    <tr>\n",
       "      <th>3</th>\n",
       "      <td>0.756757</td>\n",
       "      <td>0.731092</td>\n",
       "      <td>0.150442</td>\n",
       "      <td>0.446078</td>\n",
       "      <td>0.361466</td>\n",
       "      <td>0.350230</td>\n",
       "      <td>0.377180</td>\n",
       "      <td>1.0</td>\n",
       "      <td>0.0</td>\n",
       "      <td>0.0</td>\n",
       "    </tr>\n",
       "    <tr>\n",
       "      <th>4</th>\n",
       "      <td>0.540541</td>\n",
       "      <td>0.554622</td>\n",
       "      <td>0.128319</td>\n",
       "      <td>0.217992</td>\n",
       "      <td>0.157364</td>\n",
       "      <td>0.141540</td>\n",
       "      <td>0.212755</td>\n",
       "      <td>0.0</td>\n",
       "      <td>0.0</td>\n",
       "      <td>1.0</td>\n",
       "    </tr>\n",
       "    <tr>\n",
       "      <th>5</th>\n",
       "      <td>0.601351</td>\n",
       "      <td>0.546218</td>\n",
       "      <td>0.123894</td>\n",
       "      <td>0.185231</td>\n",
       "      <td>0.118695</td>\n",
       "      <td>0.150757</td>\n",
       "      <td>0.182860</td>\n",
       "      <td>0.0</td>\n",
       "      <td>1.0</td>\n",
       "      <td>0.0</td>\n",
       "    </tr>\n",
       "    <tr>\n",
       "      <th>6</th>\n",
       "      <td>0.601351</td>\n",
       "      <td>0.563025</td>\n",
       "      <td>0.115044</td>\n",
       "      <td>0.195679</td>\n",
       "      <td>0.157700</td>\n",
       "      <td>0.143515</td>\n",
       "      <td>0.187344</td>\n",
       "      <td>0.0</td>\n",
       "      <td>1.0</td>\n",
       "      <td>0.0</td>\n",
       "    </tr>\n",
       "    <tr>\n",
       "      <th>7</th>\n",
       "      <td>0.547297</td>\n",
       "      <td>0.537815</td>\n",
       "      <td>0.101770</td>\n",
       "      <td>0.238888</td>\n",
       "      <td>0.214862</td>\n",
       "      <td>0.139566</td>\n",
       "      <td>0.167912</td>\n",
       "      <td>0.0</td>\n",
       "      <td>0.0</td>\n",
       "      <td>1.0</td>\n",
       "    </tr>\n",
       "    <tr>\n",
       "      <th>8</th>\n",
       "      <td>0.391892</td>\n",
       "      <td>0.378151</td>\n",
       "      <td>0.079646</td>\n",
       "      <td>0.068709</td>\n",
       "      <td>0.057498</td>\n",
       "      <td>0.046741</td>\n",
       "      <td>0.058794</td>\n",
       "      <td>0.0</td>\n",
       "      <td>1.0</td>\n",
       "      <td>0.0</td>\n",
       "    </tr>\n",
       "    <tr>\n",
       "      <th>9</th>\n",
       "      <td>0.689189</td>\n",
       "      <td>0.689076</td>\n",
       "      <td>0.128319</td>\n",
       "      <td>0.348327</td>\n",
       "      <td>0.290182</td>\n",
       "      <td>0.281764</td>\n",
       "      <td>0.282013</td>\n",
       "      <td>1.0</td>\n",
       "      <td>0.0</td>\n",
       "      <td>0.0</td>\n",
       "    </tr>\n",
       "  </tbody>\n",
       "</table>\n",
       "</div>"
      ],
      "text/plain": [
       "          0         1         2         3         4         5         6    7  \\\n",
       "0  0.716216  0.672269  0.141593  0.390119  0.282448  0.396313  0.322372  0.0   \n",
       "1  0.695946  0.647059  0.132743  0.308305  0.259583  0.282423  0.242651  0.0   \n",
       "2  0.655405  0.655462  0.172566  0.346733  0.204438  0.294931  0.332337  1.0   \n",
       "3  0.756757  0.731092  0.150442  0.446078  0.361466  0.350230  0.377180  1.0   \n",
       "4  0.540541  0.554622  0.128319  0.217992  0.157364  0.141540  0.212755  0.0   \n",
       "5  0.601351  0.546218  0.123894  0.185231  0.118695  0.150757  0.182860  0.0   \n",
       "6  0.601351  0.563025  0.115044  0.195679  0.157700  0.143515  0.187344  0.0   \n",
       "7  0.547297  0.537815  0.101770  0.238888  0.214862  0.139566  0.167912  0.0   \n",
       "8  0.391892  0.378151  0.079646  0.068709  0.057498  0.046741  0.058794  0.0   \n",
       "9  0.689189  0.689076  0.128319  0.348327  0.290182  0.281764  0.282013  1.0   \n",
       "\n",
       "     8    9  \n",
       "0  0.0  1.0  \n",
       "1  0.0  1.0  \n",
       "2  0.0  0.0  \n",
       "3  0.0  0.0  \n",
       "4  0.0  1.0  \n",
       "5  1.0  0.0  \n",
       "6  1.0  0.0  \n",
       "7  0.0  1.0  \n",
       "8  1.0  0.0  \n",
       "9  0.0  0.0  "
      ]
     },
     "execution_count": 35,
     "metadata": {},
     "output_type": "execute_result"
    }
   ],
   "source": [
    "# Analyzing x values:\n",
    "x_test_encoded.head(10)"
   ]
  },
  {
   "cell_type": "code",
   "execution_count": 36,
   "metadata": {},
   "outputs": [
    {
     "data": {
      "text/html": [
       "<div>\n",
       "<style scoped>\n",
       "    .dataframe tbody tr th:only-of-type {\n",
       "        vertical-align: middle;\n",
       "    }\n",
       "\n",
       "    .dataframe tbody tr th {\n",
       "        vertical-align: top;\n",
       "    }\n",
       "\n",
       "    .dataframe thead th {\n",
       "        text-align: right;\n",
       "    }\n",
       "</style>\n",
       "<table border=\"1\" class=\"dataframe\">\n",
       "  <thead>\n",
       "    <tr style=\"text-align: right;\">\n",
       "      <th></th>\n",
       "      <th>0</th>\n",
       "      <th>1</th>\n",
       "      <th>2</th>\n",
       "      <th>3</th>\n",
       "      <th>4</th>\n",
       "      <th>5</th>\n",
       "      <th>6</th>\n",
       "      <th>7</th>\n",
       "      <th>8</th>\n",
       "      <th>9</th>\n",
       "    </tr>\n",
       "  </thead>\n",
       "  <tbody>\n",
       "    <tr>\n",
       "      <th>0</th>\n",
       "      <td>0.716216</td>\n",
       "      <td>0.672269</td>\n",
       "      <td>0.141593</td>\n",
       "      <td>0.390119</td>\n",
       "      <td>0.282448</td>\n",
       "      <td>0.396313</td>\n",
       "      <td>0.322372</td>\n",
       "      <td>0.0</td>\n",
       "      <td>0.0</td>\n",
       "      <td>1.0</td>\n",
       "    </tr>\n",
       "    <tr>\n",
       "      <th>1</th>\n",
       "      <td>0.695946</td>\n",
       "      <td>0.647059</td>\n",
       "      <td>0.132743</td>\n",
       "      <td>0.308305</td>\n",
       "      <td>0.259583</td>\n",
       "      <td>0.282423</td>\n",
       "      <td>0.242651</td>\n",
       "      <td>0.0</td>\n",
       "      <td>0.0</td>\n",
       "      <td>1.0</td>\n",
       "    </tr>\n",
       "    <tr>\n",
       "      <th>2</th>\n",
       "      <td>0.655405</td>\n",
       "      <td>0.655462</td>\n",
       "      <td>0.172566</td>\n",
       "      <td>0.346733</td>\n",
       "      <td>0.204438</td>\n",
       "      <td>0.294931</td>\n",
       "      <td>0.332337</td>\n",
       "      <td>1.0</td>\n",
       "      <td>0.0</td>\n",
       "      <td>0.0</td>\n",
       "    </tr>\n",
       "    <tr>\n",
       "      <th>3</th>\n",
       "      <td>0.756757</td>\n",
       "      <td>0.731092</td>\n",
       "      <td>0.150442</td>\n",
       "      <td>0.446078</td>\n",
       "      <td>0.361466</td>\n",
       "      <td>0.350230</td>\n",
       "      <td>0.377180</td>\n",
       "      <td>1.0</td>\n",
       "      <td>0.0</td>\n",
       "      <td>0.0</td>\n",
       "    </tr>\n",
       "    <tr>\n",
       "      <th>4</th>\n",
       "      <td>0.540541</td>\n",
       "      <td>0.554622</td>\n",
       "      <td>0.128319</td>\n",
       "      <td>0.217992</td>\n",
       "      <td>0.157364</td>\n",
       "      <td>0.141540</td>\n",
       "      <td>0.212755</td>\n",
       "      <td>0.0</td>\n",
       "      <td>0.0</td>\n",
       "      <td>1.0</td>\n",
       "    </tr>\n",
       "    <tr>\n",
       "      <th>5</th>\n",
       "      <td>0.601351</td>\n",
       "      <td>0.546218</td>\n",
       "      <td>0.123894</td>\n",
       "      <td>0.185231</td>\n",
       "      <td>0.118695</td>\n",
       "      <td>0.150757</td>\n",
       "      <td>0.182860</td>\n",
       "      <td>0.0</td>\n",
       "      <td>1.0</td>\n",
       "      <td>0.0</td>\n",
       "    </tr>\n",
       "    <tr>\n",
       "      <th>6</th>\n",
       "      <td>0.601351</td>\n",
       "      <td>0.563025</td>\n",
       "      <td>0.115044</td>\n",
       "      <td>0.195679</td>\n",
       "      <td>0.157700</td>\n",
       "      <td>0.143515</td>\n",
       "      <td>0.187344</td>\n",
       "      <td>0.0</td>\n",
       "      <td>1.0</td>\n",
       "      <td>0.0</td>\n",
       "    </tr>\n",
       "    <tr>\n",
       "      <th>7</th>\n",
       "      <td>0.547297</td>\n",
       "      <td>0.537815</td>\n",
       "      <td>0.101770</td>\n",
       "      <td>0.238888</td>\n",
       "      <td>0.214862</td>\n",
       "      <td>0.139565</td>\n",
       "      <td>0.167912</td>\n",
       "      <td>0.0</td>\n",
       "      <td>0.0</td>\n",
       "      <td>1.0</td>\n",
       "    </tr>\n",
       "    <tr>\n",
       "      <th>8</th>\n",
       "      <td>0.391892</td>\n",
       "      <td>0.378151</td>\n",
       "      <td>0.079646</td>\n",
       "      <td>0.068709</td>\n",
       "      <td>0.057498</td>\n",
       "      <td>0.046741</td>\n",
       "      <td>0.058794</td>\n",
       "      <td>0.0</td>\n",
       "      <td>1.0</td>\n",
       "      <td>0.0</td>\n",
       "    </tr>\n",
       "    <tr>\n",
       "      <th>9</th>\n",
       "      <td>0.689189</td>\n",
       "      <td>0.689076</td>\n",
       "      <td>0.128319</td>\n",
       "      <td>0.348327</td>\n",
       "      <td>0.290182</td>\n",
       "      <td>0.281764</td>\n",
       "      <td>0.282013</td>\n",
       "      <td>1.0</td>\n",
       "      <td>0.0</td>\n",
       "      <td>0.0</td>\n",
       "    </tr>\n",
       "  </tbody>\n",
       "</table>\n",
       "</div>"
      ],
      "text/plain": [
       "          0         1         2         3         4         5         6    7  \\\n",
       "0  0.716216  0.672269  0.141593  0.390119  0.282448  0.396313  0.322372  0.0   \n",
       "1  0.695946  0.647059  0.132743  0.308305  0.259583  0.282423  0.242651  0.0   \n",
       "2  0.655405  0.655462  0.172566  0.346733  0.204438  0.294931  0.332337  1.0   \n",
       "3  0.756757  0.731092  0.150442  0.446078  0.361466  0.350230  0.377180  1.0   \n",
       "4  0.540541  0.554622  0.128319  0.217992  0.157364  0.141540  0.212755  0.0   \n",
       "5  0.601351  0.546218  0.123894  0.185231  0.118695  0.150757  0.182860  0.0   \n",
       "6  0.601351  0.563025  0.115044  0.195679  0.157700  0.143515  0.187344  0.0   \n",
       "7  0.547297  0.537815  0.101770  0.238888  0.214862  0.139565  0.167912  0.0   \n",
       "8  0.391892  0.378151  0.079646  0.068709  0.057498  0.046741  0.058794  0.0   \n",
       "9  0.689189  0.689076  0.128319  0.348327  0.290182  0.281764  0.282013  1.0   \n",
       "\n",
       "     8    9  \n",
       "0  0.0  1.0  \n",
       "1  0.0  1.0  \n",
       "2  0.0  0.0  \n",
       "3  0.0  0.0  \n",
       "4  0.0  1.0  \n",
       "5  1.0  0.0  \n",
       "6  1.0  0.0  \n",
       "7  0.0  1.0  \n",
       "8  1.0  0.0  \n",
       "9  0.0  0.0  "
      ]
     },
     "execution_count": 36,
     "metadata": {},
     "output_type": "execute_result"
    }
   ],
   "source": [
    "x_test_encoded_onnx = pd.DataFrame(onnx_pred.enconded_x)\n",
    "x_test_encoded_onnx.head(10)"
   ]
  },
  {
   "cell_type": "code",
   "execution_count": 37,
   "metadata": {},
   "outputs": [
    {
     "data": {
      "image/png": "[encoded data removed]",
      "text/plain": [
       "<Figure size 720x432 with 1 Axes>"
      ]
     },
     "metadata": {
      "needs_background": "light"
     },
     "output_type": "display_data"
    }
   ],
   "source": [
    "xvalues_diff = x_test_encoded - onnx_pred.enconded_x\n",
    "\n",
    "plt.figure(figsize=(10, 6))\n",
    "plt.hist(xvalues_diff, bins=25, alpha=0.5, label=xvalues_diff.columns)\n",
    "plt.legend()\n",
    "plt.show()"
   ]
  },
  {
   "cell_type": "code",
   "execution_count": 38,
   "metadata": {},
   "outputs": [],
   "source": [
    "# # Deleting all files created:\n",
    "# os.remove(onnx_pred.prep_filename)\n",
    "# os.remove(onnx_pred.estimator_filename)"
   ]
  },
  {
   "cell_type": "code",
   "execution_count": null,
   "metadata": {},
   "outputs": [],
   "source": []
  }
 ],
 "metadata": {
  "kernelspec": {
   "display_name": "Python 3 (ipykernel)",
   "language": "python",
   "name": "python3"
  },
  "language_info": {
   "codemirror_mode": {
    "name": "ipython",
    "version": 3
   },
   "file_extension": ".py",
   "mimetype": "text/x-python",
   "name": "python",
   "nbconvert_exporter": "python",
   "pygments_lexer": "ipython3",
   "version": "3.8.5"
  }
 },
 "nbformat": 4,
 "nbformat_minor": 4
}
