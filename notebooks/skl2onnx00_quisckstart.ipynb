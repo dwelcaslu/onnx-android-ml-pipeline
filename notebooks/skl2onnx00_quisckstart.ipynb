{
 "cells": [
  {
   "cell_type": "markdown",
   "id": "049e4295-3e85-488a-a00f-df040ccd76d9",
   "metadata": {},
   "source": [
    "Link: http://onnx.ai/sklearn-onnx/index.html"
   ]
  },
  {
   "cell_type": "code",
   "execution_count": 1,
   "id": "8c88b199-77bd-44fc-a3d7-9c7921625676",
   "metadata": {},
   "outputs": [
    {
     "data": {
      "text/plain": [
       "RandomForestClassifier()"
      ]
     },
     "execution_count": 1,
     "metadata": {},
     "output_type": "execute_result"
    }
   ],
   "source": [
    "# Train a model.\n",
    "from sklearn.datasets import load_iris\n",
    "from sklearn.model_selection import train_test_split\n",
    "from sklearn.ensemble import RandomForestClassifier\n",
    "\n",
    "iris = load_iris()\n",
    "X, y = iris.data, iris.target\n",
    "X_train, X_test, y_train, y_test = train_test_split(X, y)\n",
    "clr = RandomForestClassifier()\n",
    "clr.fit(X_train, y_train)"
   ]
  },
  {
   "cell_type": "code",
   "execution_count": 2,
   "id": "669222e5-d447-41bc-8baa-1d20e23706a5",
   "metadata": {},
   "outputs": [],
   "source": [
    "# Convert into ONNX format\n",
    "from skl2onnx import convert_sklearn\n",
    "from skl2onnx.common.data_types import FloatTensorType\n",
    "\n",
    "initial_type = [('float_input', FloatTensorType([None, 4]))]\n",
    "onx = convert_sklearn(clr, initial_types=initial_type)\n",
    "\n",
    "filename = '../models/rf_iris.onnx'\n",
    "with open(filename, \"wb\") as f:\n",
    "    f.write(onx.SerializeToString())"
   ]
  },
  {
   "cell_type": "code",
   "execution_count": 3,
   "id": "c4fa4f5d-72a4-45eb-8dcd-ed0a710ef7dd",
   "metadata": {},
   "outputs": [],
   "source": [
    "# Compute the prediction with ONNX Runtime\n",
    "import onnxruntime as rt\n",
    "import numpy\n",
    "\n",
    "sess = rt.InferenceSession(filename)\n",
    "\n",
    "input_name = sess.get_inputs()[0].name\n",
    "label_name = sess.get_outputs()[0].name\n",
    "\n",
    "pred_onx = sess.run([label_name], {input_name: X_test.astype(numpy.float32)})[0]"
   ]
  },
  {
   "cell_type": "code",
   "execution_count": 4,
   "id": "b81ffb89-0398-4ed0-bc90-ec0b4cb14788",
   "metadata": {},
   "outputs": [
    {
     "data": {
      "text/plain": [
       "array([0, 1, 2, 0, 0, 2, 0, 0, 2, 1, 2, 2, 1, 1, 2, 2, 1, 0, 1, 1, 2, 2,\n",
       "       0, 1, 0, 0, 2, 2, 0, 0, 1, 1, 0, 2, 0, 2, 1, 1], dtype=int64)"
      ]
     },
     "execution_count": 4,
     "metadata": {},
     "output_type": "execute_result"
    }
   ],
   "source": [
    "pred_onx"
   ]
  },
  {
   "cell_type": "code",
   "execution_count": 5,
   "id": "d68f0d58-e65f-4f55-aadc-47cc91ba2928",
   "metadata": {},
   "outputs": [
    {
     "data": {
      "text/plain": [
       "array([0, 1, 2, 0, 0, 2, 0, 0, 2, 1, 2, 2, 1, 1, 2, 2, 1, 0, 1, 1, 2, 2,\n",
       "       0, 1, 0, 0, 2, 2, 0, 0, 1, 1, 0, 2, 0, 2, 1, 1])"
      ]
     },
     "execution_count": 5,
     "metadata": {},
     "output_type": "execute_result"
    }
   ],
   "source": [
    "clr.predict(X_test)"
   ]
  },
  {
   "cell_type": "code",
   "execution_count": null,
   "id": "8175d3a0-6127-4093-b298-a7331ecd952b",
   "metadata": {},
   "outputs": [],
   "source": []
  },
  {
   "cell_type": "markdown",
   "id": "6572d211-f41d-40d7-a331-ac8740174f21",
   "metadata": {},
   "source": [
    "## Converting ONNX models to ORT format\n",
    "Link: https://onnxruntime.ai/docs/tutorials/mobile/model-conversion.html"
   ]
  },
  {
   "cell_type": "code",
   "execution_count": 7,
   "id": "6927cbc1-bbcc-486e-bf36-da29bac83f04",
   "metadata": {},
   "outputs": [
    {
     "name": "stdout",
     "output_type": "stream",
     "text": [
      "Converting optimized ONNX model C:\\Users\\weldl\\Workspace\\onnx-android-ml-pipeline\\models\\rf_iris.onnx to ORT format model C:\\Users\\weldl\\Workspace\\onnx-android-ml-pipeline\\models\\rf_iris.all.ort\n",
      "Converted 1 models. 0 failures.\n"
     ]
    },
    {
     "name": "stderr",
     "output_type": "stream",
     "text": [
      "2021-10-11 10:51:37,368 ort_format_model.utils [INFO] - Processed C:\\Users\\weldl\\Workspace\\onnx-android-ml-pipeline\\models\\rf_iris.all.ort\n",
      "2021-10-11 10:51:37,368 ort_format_model.utils [INFO] - Created config in C:\\Users\\weldl\\Workspace\\onnx-android-ml-pipeline\\models\\rf_iris.all.required_operators.config\n"
     ]
    }
   ],
   "source": [
    "! python -m onnxruntime.tools.convert_onnx_models_to_ort \"../models/rf_iris.onnx\""
   ]
  },
  {
   "cell_type": "code",
   "execution_count": null,
   "id": "1c0bf2b2-4e5a-4981-a2f1-ad8fece00ebc",
   "metadata": {},
   "outputs": [],
   "source": []
  }
 ],
 "metadata": {
  "kernelspec": {
   "display_name": "Python 3 (ipykernel)",
   "language": "python",
   "name": "python3"
  },
  "language_info": {
   "codemirror_mode": {
    "name": "ipython",
    "version": 3
   },
   "file_extension": ".py",
   "mimetype": "text/x-python",
   "name": "python",
   "nbconvert_exporter": "python",
   "pygments_lexer": "ipython3",
   "version": "3.8.5"
  }
 },
 "nbformat": 4,
 "nbformat_minor": 5
}
