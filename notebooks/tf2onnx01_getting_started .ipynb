{
 "cells": [
  {
   "cell_type": "markdown",
   "id": "11c2a88f-ad6a-453f-88c4-15dfe1105d25",
   "metadata": {},
   "source": [
    "https://onnxruntime.ai/docs/tutorials/inferencing/tensorflow.html"
   ]
  },
  {
   "cell_type": "markdown",
   "id": "f4bc08fb-0b30-4fe7-b3a2-9db8c1265cfa",
   "metadata": {},
   "source": [
    "## Converting a Model"
   ]
  },
  {
   "cell_type": "code",
   "execution_count": 1,
   "id": "2597722f-36aa-47cb-a3d5-6cf425e35b59",
   "metadata": {},
   "outputs": [],
   "source": [
    "import tensorflow as tf\n",
    "import tf2onnx\n",
    "import onnx\n"
   ]
  },
  {
   "cell_type": "code",
   "execution_count": 2,
   "id": "10c6c5e1-1735-4639-b057-e8752a6b72a1",
   "metadata": {},
   "outputs": [],
   "source": [
    "model = tf.keras.Sequential()\n",
    "model.add(tf.keras.layers.Dense(4, activation=\"relu\"))"
   ]
  },
  {
   "cell_type": "code",
   "execution_count": 3,
   "id": "fba5b750-6f48-4263-9fb7-8ea9abd73a7c",
   "metadata": {},
   "outputs": [
    {
     "data": {
      "text/plain": [
       "[TensorSpec(shape=(3, 3), dtype=tf.float32, name='x')]"
      ]
     },
     "execution_count": 3,
     "metadata": {},
     "output_type": "execute_result"
    }
   ],
   "source": [
    "input_signature = [tf.TensorSpec([3, 3], tf.float32, name='x')]\n",
    "input_signature"
   ]
  },
  {
   "cell_type": "code",
   "execution_count": 4,
   "id": "687d48c6-2f9c-4129-8705-4d7440117c85",
   "metadata": {},
   "outputs": [
    {
     "name": "stdout",
     "output_type": "stream",
     "text": [
      "WARNING:tensorflow:From c:\\users\\weldl\\miniconda3\\envs\\embedded-ml\\lib\\site-packages\\tf2onnx\\tf_loader.py:662: extract_sub_graph (from tensorflow.python.framework.graph_util_impl) is deprecated and will be removed in a future version.\n",
      "Instructions for updating:\n",
      "Use `tf.compat.v1.graph_util.extract_sub_graph`\n"
     ]
    }
   ],
   "source": [
    "onnx_model, _ = tf2onnx.convert.from_keras(model, input_signature, opset=13)\n",
    "onnx.save(onnx_model, \"./model.onnx\")"
   ]
  },
  {
   "cell_type": "code",
   "execution_count": null,
   "id": "48f3edc7-3097-4506-a27c-b0bad0834eab",
   "metadata": {},
   "outputs": [],
   "source": []
  },
  {
   "cell_type": "markdown",
   "id": "e3e5d1a5-1c5c-4f4c-961d-461c9e6cc488",
   "metadata": {},
   "source": [
    "## Verifying a Converted Model"
   ]
  },
  {
   "cell_type": "code",
   "execution_count": 5,
   "id": "12f9b712-5db0-4218-b10e-a40253633ffe",
   "metadata": {},
   "outputs": [],
   "source": [
    "import onnxruntime as ort\n",
    "import numpy as np"
   ]
  },
  {
   "cell_type": "code",
   "execution_count": 6,
   "id": "d68c6b30-a019-455d-82a7-9c019adbff8e",
   "metadata": {},
   "outputs": [],
   "source": [
    "# Change shapes and types to match model\n",
    "input1 = np.zeros((1, 100, 100, 3), np.float32)"
   ]
  },
  {
   "cell_type": "code",
   "execution_count": 7,
   "id": "48c9f595-3656-4b3a-ad9e-56a0f98ed34a",
   "metadata": {},
   "outputs": [
    {
     "ename": "InvalidArgument",
     "evalue": "[ONNXRuntimeError] : 2 : INVALID_ARGUMENT : Invalid Feed Input Name:input1",
     "output_type": "error",
     "traceback": [
      "\u001b[1;31m---------------------------------------------------------------------------\u001b[0m",
      "\u001b[1;31mInvalidArgument\u001b[0m                           Traceback (most recent call last)",
      "\u001b[1;32m~\\AppData\\Local\\Temp/ipykernel_19760/2387081956.py\u001b[0m in \u001b[0;36m<module>\u001b[1;34m\u001b[0m\n\u001b[0;32m      3\u001b[0m \u001b[1;31m# Input/output names are printed by the CLI and can be set with --rename-inputs and --rename-outputs\u001b[0m\u001b[1;33m\u001b[0m\u001b[1;33m\u001b[0m\u001b[1;33m\u001b[0m\u001b[0m\n\u001b[0;32m      4\u001b[0m \u001b[1;31m# If using the python API, names are determined from function arg names or TensorSpec names.\u001b[0m\u001b[1;33m\u001b[0m\u001b[1;33m\u001b[0m\u001b[1;33m\u001b[0m\u001b[0m\n\u001b[1;32m----> 5\u001b[1;33m \u001b[0mresults_ort\u001b[0m \u001b[1;33m=\u001b[0m \u001b[0msess\u001b[0m\u001b[1;33m.\u001b[0m\u001b[0mrun\u001b[0m\u001b[1;33m(\u001b[0m\u001b[1;33m[\u001b[0m\u001b[1;34m\"output1\"\u001b[0m\u001b[1;33m,\u001b[0m \u001b[1;34m\"output2\"\u001b[0m\u001b[1;33m]\u001b[0m\u001b[1;33m,\u001b[0m \u001b[1;33m{\u001b[0m\u001b[1;34m\"input1\"\u001b[0m\u001b[1;33m:\u001b[0m \u001b[0minput1\u001b[0m\u001b[1;33m}\u001b[0m\u001b[1;33m)\u001b[0m\u001b[1;33m\u001b[0m\u001b[1;33m\u001b[0m\u001b[0m\n\u001b[0m",
      "\u001b[1;32mc:\\users\\weldl\\miniconda3\\envs\\embedded-ml\\lib\\site-packages\\onnxruntime\\capi\\onnxruntime_inference_collection.py\u001b[0m in \u001b[0;36mrun\u001b[1;34m(self, output_names, input_feed, run_options)\u001b[0m\n\u001b[0;32m    186\u001b[0m             \u001b[0moutput_names\u001b[0m \u001b[1;33m=\u001b[0m \u001b[1;33m[\u001b[0m\u001b[0moutput\u001b[0m\u001b[1;33m.\u001b[0m\u001b[0mname\u001b[0m \u001b[1;32mfor\u001b[0m \u001b[0moutput\u001b[0m \u001b[1;32min\u001b[0m \u001b[0mself\u001b[0m\u001b[1;33m.\u001b[0m\u001b[0m_outputs_meta\u001b[0m\u001b[1;33m]\u001b[0m\u001b[1;33m\u001b[0m\u001b[1;33m\u001b[0m\u001b[0m\n\u001b[0;32m    187\u001b[0m         \u001b[1;32mtry\u001b[0m\u001b[1;33m:\u001b[0m\u001b[1;33m\u001b[0m\u001b[1;33m\u001b[0m\u001b[0m\n\u001b[1;32m--> 188\u001b[1;33m             \u001b[1;32mreturn\u001b[0m \u001b[0mself\u001b[0m\u001b[1;33m.\u001b[0m\u001b[0m_sess\u001b[0m\u001b[1;33m.\u001b[0m\u001b[0mrun\u001b[0m\u001b[1;33m(\u001b[0m\u001b[0moutput_names\u001b[0m\u001b[1;33m,\u001b[0m \u001b[0minput_feed\u001b[0m\u001b[1;33m,\u001b[0m \u001b[0mrun_options\u001b[0m\u001b[1;33m)\u001b[0m\u001b[1;33m\u001b[0m\u001b[1;33m\u001b[0m\u001b[0m\n\u001b[0m\u001b[0;32m    189\u001b[0m         \u001b[1;32mexcept\u001b[0m \u001b[0mC\u001b[0m\u001b[1;33m.\u001b[0m\u001b[0mEPFail\u001b[0m \u001b[1;32mas\u001b[0m \u001b[0merr\u001b[0m\u001b[1;33m:\u001b[0m\u001b[1;33m\u001b[0m\u001b[1;33m\u001b[0m\u001b[0m\n\u001b[0;32m    190\u001b[0m             \u001b[1;32mif\u001b[0m \u001b[0mself\u001b[0m\u001b[1;33m.\u001b[0m\u001b[0m_enable_fallback\u001b[0m\u001b[1;33m:\u001b[0m\u001b[1;33m\u001b[0m\u001b[1;33m\u001b[0m\u001b[0m\n",
      "\u001b[1;31mInvalidArgument\u001b[0m: [ONNXRuntimeError] : 2 : INVALID_ARGUMENT : Invalid Feed Input Name:input1"
     ]
    }
   ],
   "source": [
    "sess = ort.InferenceSession(\"./model.onnx\")\n",
    "# Set first argument of sess.run to None to use all model outputs in default order\n",
    "# Input/output names are printed by the CLI and can be set with --rename-inputs and --rename-outputs\n",
    "# If using the python API, names are determined from function arg names or TensorSpec names.\n",
    "results_ort = sess.run([\"output1\", \"output2\"], {\"input1\": input1})"
   ]
  },
  {
   "cell_type": "code",
   "execution_count": null,
   "id": "1fb3328b-bf3c-4f68-8eee-0aa8572cb7ca",
   "metadata": {},
   "outputs": [],
   "source": [
    "import tensorflow as tf\n",
    "model = tf.saved_model.load(\"path/to/savedmodel\")\n",
    "results_tf = model(input1)\n",
    "\n",
    "for ort_res, tf_res in zip(results_ort, results_tf):\n",
    "    np.testing.assert_allclose(ort_res, tf_res, rtol=1e-5, atol=1e-5)\n",
    "\n",
    "print(\"Results match\")"
   ]
  },
  {
   "cell_type": "code",
   "execution_count": null,
   "id": "aef08c5e-985b-4415-a550-2f347864ad81",
   "metadata": {},
   "outputs": [],
   "source": []
  }
 ],
 "metadata": {
  "kernelspec": {
   "display_name": "Python 3 (ipykernel)",
   "language": "python",
   "name": "python3"
  },
  "language_info": {
   "codemirror_mode": {
    "name": "ipython",
    "version": 3
   },
   "file_extension": ".py",
   "mimetype": "text/x-python",
   "name": "python",
   "nbconvert_exporter": "python",
   "pygments_lexer": "ipython3",
   "version": "3.8.5"
  }
 },
 "nbformat": 4,
 "nbformat_minor": 5
}
